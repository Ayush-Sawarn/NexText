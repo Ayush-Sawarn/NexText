{
 "cells": [
  {
   "cell_type": "code",
   "execution_count": 1,
   "metadata": {},
   "outputs": [],
   "source": [
    "import os\n",
    "os.chdir(\"../\")"
   ]
  },
  {
   "cell_type": "code",
   "execution_count": 2,
   "metadata": {},
   "outputs": [],
   "source": [
    "from dataclasses import dataclass\n",
    "from pathlib import Path\n",
    "\n",
    "\n",
    "@dataclass(frozen=True)   #entity\n",
    "class DataTransformationConfig:\n",
    "    root_dir: Path\n",
    "    data_path: Path\n",
    "    tokenizer_name: Path"
   ]
  },
  {
   "cell_type": "code",
   "execution_count": 3,
   "metadata": {},
   "outputs": [],
   "source": [
    "from TextSummariser.constants import *\n",
    "from TextSummariser.utils.common import read_yaml, create_directories"
   ]
  },
  {
   "cell_type": "code",
   "execution_count": 4,
   "metadata": {},
   "outputs": [],
   "source": [
    "class ConfigurationManager:\n",
    "    def __init__(\n",
    "        self,\n",
    "        config_filepath = CONFIG_FILE_PATH,\n",
    "        params_filepath = PARAMS_FILE_PATH):\n",
    "\n",
    "        self.config = read_yaml(config_filepath)\n",
    "        self.params = read_yaml(params_filepath)\n",
    "\n",
    "        create_directories([self.config.artifacts_root])\n",
    "\n",
    "\n",
    "    \n",
    "    def get_data_transformation_config(self) -> DataTransformationConfig:  #configuration\n",
    "        config = self.config.data_transformation\n",
    "\n",
    "        create_directories([config.root_dir])\n",
    "\n",
    "        data_transformation_config = DataTransformationConfig(\n",
    "            root_dir=config.root_dir,\n",
    "            data_path=config.data_path,\n",
    "            tokenizer_name = config.tokenizer_name\n",
    "        )\n",
    "\n",
    "        return data_transformation_config"
   ]
  },
  {
   "cell_type": "code",
   "execution_count": 17,
   "metadata": {},
   "outputs": [],
   "source": [
    "from transformers import AutoTokenizer\n",
    "from datasets import load_dataset\n",
    "import os\n",
    "\n",
    "class DataTransformation:\n",
    "    def __init__(self, config: DataTransformationConfig):\n",
    "        self.config = config\n",
    "        self.tokenizer = AutoTokenizer.from_pretrained(config.tokenizer_name)\n",
    "\n",
    "    def convert_examples_to_features(self, example_batch):\n",
    "\n",
    "        # Ensure input is always a list of strings\n",
    "        dialogues = example_batch['dialogue']\n",
    "        summaries = example_batch['summary']\n",
    "\n",
    "        # If a single string sneaks in, wrap it in a list\n",
    "        if isinstance(dialogues, str):\n",
    "            dialogues = [dialogues]\n",
    "        if isinstance(summaries, str):\n",
    "            summaries = [summaries]\n",
    "\n",
    "        # Remove None values (if any)\n",
    "        dialogues = [d if d is not None else \"\" for d in dialogues]\n",
    "        summaries = [s if s is not None else \"\" for s in summaries]\n",
    "\n",
    "        input_encodings = self.tokenizer(\n",
    "            dialogues, max_length=1024, truncation=True, padding=\"max_length\"\n",
    "        )\n",
    "        target_encodings = self.tokenizer(\n",
    "            summaries, max_length=128, truncation=True, padding=\"max_length\"\n",
    "        )\n",
    "        return {\n",
    "            'input_ids': input_encodings['input_ids'],\n",
    "            'attention_mask': input_encodings['attention_mask'],\n",
    "            'labels': target_encodings['input_ids']\n",
    "        }\n",
    "\n",
    "    def convert(self):\n",
    "        dataset_samsum = load_dataset(\n",
    "            \"csv\",\n",
    "            data_files={\n",
    "                \"train\": \"artifacts/data_ingestion/samsum_dataset/train.csv\",\n",
    "                \"validation\": \"artifacts/data_ingestion/samsum_dataset/validation.csv\",\n",
    "                \"test\": \"artifacts/data_ingestion/samsum_dataset/test.csv\"\n",
    "            }\n",
    "        )\n",
    "        print(dataset_samsum[\"train\"].column_names)  # Debug: check column names\n",
    "        dataset_samsum_pt = dataset_samsum.map(self.convert_examples_to_features, batched=True)\n",
    "        dataset_samsum_pt.save_to_disk(os.path.join(self.config.root_dir, \"samsum_dataset\"))"
   ]
  },
  {
   "cell_type": "code",
   "execution_count": 18,
   "metadata": {},
   "outputs": [
    {
     "name": "stdout",
     "output_type": "stream",
     "text": [
      "[2025-06-25 22:40:41,053: INFO: common: yaml file: config\\config.yaml loaded successfully]\n",
      "[2025-06-25 22:40:41,056: INFO: common: yaml file: params.yaml loaded successfully]\n",
      "[2025-06-25 22:40:41,062: INFO: common: created directory at: artifacts]\n",
      "[2025-06-25 22:40:41,066: INFO: common: created directory at: artifacts/data_transformation]\n",
      "['id', 'dialogue', 'summary']\n"
     ]
    },
    {
     "name": "stderr",
     "output_type": "stream",
     "text": [
      "Map: 100%|██████████| 14732/14732 [00:05<00:00, 2595.18 examples/s]\n",
      "Map: 100%|██████████| 818/818 [00:00<00:00, 2276.55 examples/s]\n",
      "Map: 100%|██████████| 819/819 [00:00<00:00, 2184.49 examples/s]\n",
      "Saving the dataset (1/1 shards): 100%|██████████| 14732/14732 [00:00<00:00, 164294.89 examples/s]\n",
      "Saving the dataset (1/1 shards): 100%|██████████| 818/818 [00:00<00:00, 30443.94 examples/s]\n",
      "Saving the dataset (1/1 shards): 100%|██████████| 819/819 [00:00<00:00, 38780.03 examples/s]\n"
     ]
    }
   ],
   "source": [
    "try:\n",
    "    config = ConfigurationManager()\n",
    "    data_transformation_config = config.get_data_transformation_config()\n",
    "    data_transformation = DataTransformation(config=data_transformation_config)\n",
    "    data_transformation.convert()\n",
    "except Exception as e:\n",
    "    raise e"
   ]
  }
 ],
 "metadata": {
  "kernelspec": {
   "display_name": "textS",
   "language": "python",
   "name": "python3"
  },
  "language_info": {
   "codemirror_mode": {
    "name": "ipython",
    "version": 3
   },
   "file_extension": ".py",
   "mimetype": "text/x-python",
   "name": "python",
   "nbconvert_exporter": "python",
   "pygments_lexer": "ipython3",
   "version": "3.8.20"
  }
 },
 "nbformat": 4,
 "nbformat_minor": 2
}
